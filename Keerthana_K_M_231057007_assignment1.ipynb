{
 "cells": [
  {
   "cell_type": "code",
   "execution_count": 1,
   "metadata": {},
   "outputs": [
    {
     "name": "stdout",
     "output_type": "stream",
     "text": [
      "Following are connected components\n",
      "[[0, 1, 2, 3, 4]]\n"
     ]
    }
   ],
   "source": [
    "class Graph:\n",
    "\tdef __init__(self, V):\n",
    "\t\tself.V = V\n",
    "\t\tself.adj = [[] for i in range(V)]\n",
    "\n",
    "\tdef DFSUtil(self, temp, v, visited):\n",
    "\t\tvisited[v] = True\n",
    "\t\ttemp.append(v)\n",
    "\t\tfor i in self.adj[v]:\n",
    "\t\t\tif visited[i] == False:\n",
    "\t\t\t\ttemp = self.DFSUtil(temp, i, visited)\n",
    "\t\treturn temp\n",
    "\n",
    "\tdef addEdge(self, v, w):\n",
    "\t\tself.adj[v].append(w)\n",
    "\t\tself.adj[w].append(v)\n",
    "\n",
    "\tdef connectedComponents(self):\n",
    "\t\tvisited = []\n",
    "\t\tcc = []\n",
    "\t\tfor i in range(self.V):\n",
    "\t\t\tvisited.append(False)\n",
    "\t\tfor v in range(self.V):\n",
    "\t\t\tif visited[v] == False:\n",
    "\t\t\t\ttemp = []\n",
    "\t\t\t\tcc.append(self.DFSUtil(temp, v, visited))\n",
    "\t\treturn cc\n",
    "\n",
    "\n",
    "g = Graph(5)\n",
    "g.addEdge(0, 1)\n",
    "g.addEdge(0, 2)\n",
    "g.addEdge(2, 3)\n",
    "g.addEdge(3, 4)\n",
    "cc = g.connectedComponents()\n",
    "print(\"Following are connected components\")\n",
    "print(cc)"
   ]
  }
 ],
 "metadata": {
  "kernelspec": {
   "display_name": "pycaretenv",
   "language": "python",
   "name": "python3"
  },
  "language_info": {
   "codemirror_mode": {
    "name": "ipython",
    "version": 3
   },
   "file_extension": ".py",
   "mimetype": "text/x-python",
   "name": "python",
   "nbconvert_exporter": "python",
   "pygments_lexer": "ipython3",
   "version": "3.9.17"
  }
 },
 "nbformat": 4,
 "nbformat_minor": 2
}
